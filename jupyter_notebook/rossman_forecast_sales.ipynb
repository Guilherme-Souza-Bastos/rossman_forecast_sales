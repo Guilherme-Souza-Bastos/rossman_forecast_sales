{
 "cells": [
  {
   "cell_type": "markdown",
   "id": "2e79967a",
   "metadata": {},
   "source": [
    "# 0. IMPORTS"
   ]
  },
  {
   "cell_type": "markdown",
   "id": "ba46a5c8",
   "metadata": {},
   "source": [
    "## 0.1. Python Libraries"
   ]
  },
  {
   "cell_type": "code",
   "execution_count": 42,
   "id": "86c21259",
   "metadata": {
    "ExecuteTime": {
     "end_time": "2023-06-04T14:10:03.802451Z",
     "start_time": "2023-06-04T14:10:03.795461Z"
    }
   },
   "outputs": [],
   "source": [
    "# Essencial libraries\n",
    "import math\n",
    "import pickle\n",
    "import random\n",
    "import datetime\n",
    "import inflection\n",
    "import pandas     as pd\n",
    "import numpy      as np\n",
    "\n",
    "# Graph plots\n",
    "import seaborn           as     sns\n",
    "import scikitplot        as     skplt\n",
    "import plotly.express    as     px\n",
    "from   matplotlib.artist import Artist \n",
    "from   matplotlib        import pyplot as plt\n",
    "\n",
    "# Features selections\n",
    "from boruta import BorutaPy\n",
    "\n",
    "# stylish preferences\n",
    "sns.set_style('darkgrid')"
   ]
  },
  {
   "cell_type": "markdown",
   "id": "acf9de6b",
   "metadata": {},
   "source": [
    "## 0.2. Helper Functions"
   ]
  },
  {
   "cell_type": "code",
   "execution_count": null,
   "id": "903d09c3",
   "metadata": {},
   "outputs": [],
   "source": []
  },
  {
   "cell_type": "markdown",
   "id": "6926f2b6",
   "metadata": {},
   "source": [
    "## 0.3. Loading the [Dataset](https://www.kaggle.com/competitions/rossmann-store-sales/data?select=train.csv)"
   ]
  },
  {
   "cell_type": "code",
   "execution_count": 22,
   "id": "cb1dbac7",
   "metadata": {
    "ExecuteTime": {
     "end_time": "2023-06-04T13:52:57.657565Z",
     "start_time": "2023-06-04T13:52:57.059428Z"
    }
   },
   "outputs": [],
   "source": [
    "train_raw = pd.read_csv('C:/Users/Guilherme/Documents/repos/rossman_forecast_sales/dataset/train.csv', low_memory=False)\n",
    "store_raw = pd.read_csv('C:/Users/Guilherme/Documents/repos/rossman_forecast_sales/dataset/store.csv', low_memory=False)\n",
    "\n",
    "df_raw = pd.merge(train_raw, store_raw, how = 'left', on='Store')"
   ]
  },
  {
   "cell_type": "markdown",
   "id": "0a9c45b7",
   "metadata": {
    "heading_collapsed": true
   },
   "source": [
    "# 1. DATA UNDERSTANDING\n",
    "\n",
    "Initial contact with the dataset."
   ]
  },
  {
   "cell_type": "code",
   "execution_count": 23,
   "id": "cf8ecf5b",
   "metadata": {
    "ExecuteTime": {
     "end_time": "2023-06-04T13:52:58.695816Z",
     "start_time": "2023-06-04T13:52:58.601824Z"
    },
    "hidden": true
   },
   "outputs": [],
   "source": [
    "df1 = df_raw.copy()"
   ]
  },
  {
   "cell_type": "code",
   "execution_count": 24,
   "id": "12a7bd28",
   "metadata": {
    "ExecuteTime": {
     "end_time": "2023-06-04T13:52:59.213825Z",
     "start_time": "2023-06-04T13:52:59.195831Z"
    },
    "hidden": true
   },
   "outputs": [],
   "source": [
    "cols_snake = list( map( lambda x: inflection.underscore( x ), df1.columns ) )\n",
    "df1.columns = cols_snake"
   ]
  },
  {
   "cell_type": "markdown",
   "id": "921b6388",
   "metadata": {
    "heading_collapsed": true,
    "hidden": true
   },
   "source": [
    "## 1.1. Data Preview\n",
    "\n",
    "- **store** - a unique Id for each store\n",
    "- **sales** - the turnover for any given day (this is what you are predicting)\n",
    "- **customers** - the number of customers on a given day\n",
    "- **open** - an indicator for whether the store was open: 0 = closed, 1 = open\n",
    "- **state_holiday** - indicates a state holiday. Normally all stores, with few exceptions, are closed on state holidays. Note that all schools are closed on public holidays and weekends. a = public holiday, b = Easter holiday, c = Christmas, 0 = None\n",
    "- **school_holiday** - indicates if the (Store, Date) was affected by the closure of public schools\n",
    "- **store_type** - differentiates between 4 different store models: a, b, c, d\n",
    "- **assortment** - describes an assortment level: a = basic, b = extra, c = extended\n",
    "- **competition_distance** - distance in meters to the nearest competitor store\n",
    "- **competition_open_since[Month/Year]** - gives the approximate year and month of the time the nearest competitor was opened\n",
    "- **promo** - indicates whether a store is running a promo on that day\n",
    "- **promo2** - Promo2 is a continuing and consecutive promotion for some stores: 0 = store is not participating, 1 = store is participating\n",
    "- **promo2_since[Year/Week]** - describes the year and calendar week when the store started participating in Promo2\n",
    "- **promo_interval** - describes the consecutive intervals Promo2 is started, naming the months the promotion is started anew. E.g. \"Feb,May,Aug,Nov\" means each round starts in February, May, August, November of any given year for that store"
   ]
  },
  {
   "cell_type": "code",
   "execution_count": 25,
   "id": "330894aa",
   "metadata": {
    "ExecuteTime": {
     "end_time": "2023-06-04T13:53:02.041648Z",
     "start_time": "2023-06-04T13:53:02.017642Z"
    },
    "hidden": true
   },
   "outputs": [
    {
     "data": {
      "text/html": [
       "<div>\n",
       "<style scoped>\n",
       "    .dataframe tbody tr th:only-of-type {\n",
       "        vertical-align: middle;\n",
       "    }\n",
       "\n",
       "    .dataframe tbody tr th {\n",
       "        vertical-align: top;\n",
       "    }\n",
       "\n",
       "    .dataframe thead th {\n",
       "        text-align: right;\n",
       "    }\n",
       "</style>\n",
       "<table border=\"1\" class=\"dataframe\">\n",
       "  <thead>\n",
       "    <tr style=\"text-align: right;\">\n",
       "      <th></th>\n",
       "      <th>store</th>\n",
       "      <th>day_of_week</th>\n",
       "      <th>date</th>\n",
       "      <th>sales</th>\n",
       "      <th>customers</th>\n",
       "      <th>open</th>\n",
       "      <th>promo</th>\n",
       "      <th>state_holiday</th>\n",
       "      <th>school_holiday</th>\n",
       "      <th>store_type</th>\n",
       "      <th>assortment</th>\n",
       "      <th>competition_distance</th>\n",
       "      <th>competition_open_since_month</th>\n",
       "      <th>competition_open_since_year</th>\n",
       "      <th>promo2</th>\n",
       "      <th>promo2_since_week</th>\n",
       "      <th>promo2_since_year</th>\n",
       "      <th>promo_interval</th>\n",
       "    </tr>\n",
       "  </thead>\n",
       "  <tbody>\n",
       "    <tr>\n",
       "      <th>0</th>\n",
       "      <td>1</td>\n",
       "      <td>5</td>\n",
       "      <td>2015-07-31</td>\n",
       "      <td>5263</td>\n",
       "      <td>555</td>\n",
       "      <td>1</td>\n",
       "      <td>1</td>\n",
       "      <td>0</td>\n",
       "      <td>1</td>\n",
       "      <td>c</td>\n",
       "      <td>a</td>\n",
       "      <td>1270.0</td>\n",
       "      <td>9.0</td>\n",
       "      <td>2008.0</td>\n",
       "      <td>0</td>\n",
       "      <td>NaN</td>\n",
       "      <td>NaN</td>\n",
       "      <td>NaN</td>\n",
       "    </tr>\n",
       "    <tr>\n",
       "      <th>1</th>\n",
       "      <td>2</td>\n",
       "      <td>5</td>\n",
       "      <td>2015-07-31</td>\n",
       "      <td>6064</td>\n",
       "      <td>625</td>\n",
       "      <td>1</td>\n",
       "      <td>1</td>\n",
       "      <td>0</td>\n",
       "      <td>1</td>\n",
       "      <td>a</td>\n",
       "      <td>a</td>\n",
       "      <td>570.0</td>\n",
       "      <td>11.0</td>\n",
       "      <td>2007.0</td>\n",
       "      <td>1</td>\n",
       "      <td>13.0</td>\n",
       "      <td>2010.0</td>\n",
       "      <td>Jan,Apr,Jul,Oct</td>\n",
       "    </tr>\n",
       "    <tr>\n",
       "      <th>2</th>\n",
       "      <td>3</td>\n",
       "      <td>5</td>\n",
       "      <td>2015-07-31</td>\n",
       "      <td>8314</td>\n",
       "      <td>821</td>\n",
       "      <td>1</td>\n",
       "      <td>1</td>\n",
       "      <td>0</td>\n",
       "      <td>1</td>\n",
       "      <td>a</td>\n",
       "      <td>a</td>\n",
       "      <td>14130.0</td>\n",
       "      <td>12.0</td>\n",
       "      <td>2006.0</td>\n",
       "      <td>1</td>\n",
       "      <td>14.0</td>\n",
       "      <td>2011.0</td>\n",
       "      <td>Jan,Apr,Jul,Oct</td>\n",
       "    </tr>\n",
       "    <tr>\n",
       "      <th>3</th>\n",
       "      <td>4</td>\n",
       "      <td>5</td>\n",
       "      <td>2015-07-31</td>\n",
       "      <td>13995</td>\n",
       "      <td>1498</td>\n",
       "      <td>1</td>\n",
       "      <td>1</td>\n",
       "      <td>0</td>\n",
       "      <td>1</td>\n",
       "      <td>c</td>\n",
       "      <td>c</td>\n",
       "      <td>620.0</td>\n",
       "      <td>9.0</td>\n",
       "      <td>2009.0</td>\n",
       "      <td>0</td>\n",
       "      <td>NaN</td>\n",
       "      <td>NaN</td>\n",
       "      <td>NaN</td>\n",
       "    </tr>\n",
       "    <tr>\n",
       "      <th>4</th>\n",
       "      <td>5</td>\n",
       "      <td>5</td>\n",
       "      <td>2015-07-31</td>\n",
       "      <td>4822</td>\n",
       "      <td>559</td>\n",
       "      <td>1</td>\n",
       "      <td>1</td>\n",
       "      <td>0</td>\n",
       "      <td>1</td>\n",
       "      <td>a</td>\n",
       "      <td>a</td>\n",
       "      <td>29910.0</td>\n",
       "      <td>4.0</td>\n",
       "      <td>2015.0</td>\n",
       "      <td>0</td>\n",
       "      <td>NaN</td>\n",
       "      <td>NaN</td>\n",
       "      <td>NaN</td>\n",
       "    </tr>\n",
       "  </tbody>\n",
       "</table>\n",
       "</div>"
      ],
      "text/plain": [
       "   store  day_of_week        date  sales  customers  open  promo  \\\n",
       "0      1            5  2015-07-31   5263        555     1      1   \n",
       "1      2            5  2015-07-31   6064        625     1      1   \n",
       "2      3            5  2015-07-31   8314        821     1      1   \n",
       "3      4            5  2015-07-31  13995       1498     1      1   \n",
       "4      5            5  2015-07-31   4822        559     1      1   \n",
       "\n",
       "  state_holiday  school_holiday store_type assortment  competition_distance  \\\n",
       "0             0               1          c          a                1270.0   \n",
       "1             0               1          a          a                 570.0   \n",
       "2             0               1          a          a               14130.0   \n",
       "3             0               1          c          c                 620.0   \n",
       "4             0               1          a          a               29910.0   \n",
       "\n",
       "   competition_open_since_month  competition_open_since_year  promo2  \\\n",
       "0                           9.0                       2008.0       0   \n",
       "1                          11.0                       2007.0       1   \n",
       "2                          12.0                       2006.0       1   \n",
       "3                           9.0                       2009.0       0   \n",
       "4                           4.0                       2015.0       0   \n",
       "\n",
       "   promo2_since_week  promo2_since_year   promo_interval  \n",
       "0                NaN                NaN              NaN  \n",
       "1               13.0             2010.0  Jan,Apr,Jul,Oct  \n",
       "2               14.0             2011.0  Jan,Apr,Jul,Oct  \n",
       "3                NaN                NaN              NaN  \n",
       "4                NaN                NaN              NaN  "
      ]
     },
     "execution_count": 25,
     "metadata": {},
     "output_type": "execute_result"
    }
   ],
   "source": [
    "df1.head()"
   ]
  },
  {
   "cell_type": "markdown",
   "id": "fdc0df71",
   "metadata": {
    "heading_collapsed": true,
    "hidden": true
   },
   "source": [
    "## 1.2. Data Format and Type"
   ]
  },
  {
   "cell_type": "code",
   "execution_count": 26,
   "id": "2d3c5290",
   "metadata": {
    "ExecuteTime": {
     "end_time": "2023-06-04T13:53:05.101804Z",
     "start_time": "2023-06-04T13:53:04.695724Z"
    },
    "hidden": true
   },
   "outputs": [
    {
     "name": "stdout",
     "output_type": "stream",
     "text": [
      "<class 'pandas.core.frame.DataFrame'>\n",
      "Int64Index: 1017209 entries, 0 to 1017208\n",
      "Data columns (total 18 columns):\n",
      " #   Column                        Non-Null Count    Dtype  \n",
      "---  ------                        --------------    -----  \n",
      " 0   store                         1017209 non-null  int64  \n",
      " 1   day_of_week                   1017209 non-null  int64  \n",
      " 2   date                          1017209 non-null  object \n",
      " 3   sales                         1017209 non-null  int64  \n",
      " 4   customers                     1017209 non-null  int64  \n",
      " 5   open                          1017209 non-null  int64  \n",
      " 6   promo                         1017209 non-null  int64  \n",
      " 7   state_holiday                 1017209 non-null  object \n",
      " 8   school_holiday                1017209 non-null  int64  \n",
      " 9   store_type                    1017209 non-null  object \n",
      " 10  assortment                    1017209 non-null  object \n",
      " 11  competition_distance          1014567 non-null  float64\n",
      " 12  competition_open_since_month  693861 non-null   float64\n",
      " 13  competition_open_since_year   693861 non-null   float64\n",
      " 14  promo2                        1017209 non-null  int64  \n",
      " 15  promo2_since_week             509178 non-null   float64\n",
      " 16  promo2_since_year             509178 non-null   float64\n",
      " 17  promo_interval                509178 non-null   object \n",
      "dtypes: float64(5), int64(8), object(5)\n",
      "memory usage: 147.5+ MB\n"
     ]
    }
   ],
   "source": [
    "df1.info()"
   ]
  },
  {
   "cell_type": "markdown",
   "id": "d7f6de7b",
   "metadata": {
    "hidden": true
   },
   "source": [
    "`date` data type needs to be covented to `datetime64` format."
   ]
  },
  {
   "cell_type": "code",
   "execution_count": 27,
   "id": "23725b1e",
   "metadata": {
    "ExecuteTime": {
     "end_time": "2023-06-04T13:53:12.505258Z",
     "start_time": "2023-06-04T13:53:12.406821Z"
    },
    "hidden": true
   },
   "outputs": [],
   "source": [
    "df1['date'] = pd.to_datetime( df1['date'] )"
   ]
  },
  {
   "cell_type": "code",
   "execution_count": 28,
   "id": "1597eb60",
   "metadata": {
    "ExecuteTime": {
     "end_time": "2023-06-04T13:53:15.012226Z",
     "start_time": "2023-06-04T13:53:14.669816Z"
    },
    "hidden": true
   },
   "outputs": [
    {
     "name": "stdout",
     "output_type": "stream",
     "text": [
      "<class 'pandas.core.frame.DataFrame'>\n",
      "Int64Index: 1017209 entries, 0 to 1017208\n",
      "Data columns (total 18 columns):\n",
      " #   Column                        Non-Null Count    Dtype         \n",
      "---  ------                        --------------    -----         \n",
      " 0   store                         1017209 non-null  int64         \n",
      " 1   day_of_week                   1017209 non-null  int64         \n",
      " 2   date                          1017209 non-null  datetime64[ns]\n",
      " 3   sales                         1017209 non-null  int64         \n",
      " 4   customers                     1017209 non-null  int64         \n",
      " 5   open                          1017209 non-null  int64         \n",
      " 6   promo                         1017209 non-null  int64         \n",
      " 7   state_holiday                 1017209 non-null  object        \n",
      " 8   school_holiday                1017209 non-null  int64         \n",
      " 9   store_type                    1017209 non-null  object        \n",
      " 10  assortment                    1017209 non-null  object        \n",
      " 11  competition_distance          1014567 non-null  float64       \n",
      " 12  competition_open_since_month  693861 non-null   float64       \n",
      " 13  competition_open_since_year   693861 non-null   float64       \n",
      " 14  promo2                        1017209 non-null  int64         \n",
      " 15  promo2_since_week             509178 non-null   float64       \n",
      " 16  promo2_since_year             509178 non-null   float64       \n",
      " 17  promo_interval                509178 non-null   object        \n",
      "dtypes: datetime64[ns](1), float64(5), int64(8), object(4)\n",
      "memory usage: 147.5+ MB\n"
     ]
    }
   ],
   "source": [
    "df1.info()"
   ]
  },
  {
   "cell_type": "markdown",
   "id": "a4d5b589",
   "metadata": {
    "heading_collapsed": true,
    "hidden": true
   },
   "source": [
    "## 1.3. Check NA"
   ]
  },
  {
   "cell_type": "code",
   "execution_count": 29,
   "id": "91a5a819",
   "metadata": {
    "ExecuteTime": {
     "end_time": "2023-06-04T13:53:27.621893Z",
     "start_time": "2023-06-04T13:53:27.284797Z"
    },
    "hidden": true
   },
   "outputs": [
    {
     "data": {
      "text/plain": [
       "store                                0\n",
       "day_of_week                          0\n",
       "date                                 0\n",
       "sales                                0\n",
       "customers                            0\n",
       "open                                 0\n",
       "promo                                0\n",
       "state_holiday                        0\n",
       "school_holiday                       0\n",
       "store_type                           0\n",
       "assortment                           0\n",
       "competition_distance              2642\n",
       "competition_open_since_month    323348\n",
       "competition_open_since_year     323348\n",
       "promo2                               0\n",
       "promo2_since_week               508031\n",
       "promo2_since_year               508031\n",
       "promo_interval                  508031\n",
       "dtype: int64"
      ]
     },
     "execution_count": 29,
     "metadata": {},
     "output_type": "execute_result"
    }
   ],
   "source": [
    "df1.isna().sum()"
   ]
  },
  {
   "cell_type": "markdown",
   "id": "5228ae9e",
   "metadata": {
    "hidden": true
   },
   "source": [
    "### 1.3.1. Treatment NA"
   ]
  },
  {
   "cell_type": "code",
   "execution_count": 30,
   "id": "122a6eba",
   "metadata": {
    "ExecuteTime": {
     "end_time": "2023-06-04T13:54:12.616160Z",
     "start_time": "2023-06-04T13:53:31.699513Z"
    },
    "hidden": true
   },
   "outputs": [],
   "source": [
    "# competition_distance - if there ins't competition nearby, is reasonable to assume competition_distance is a large number\n",
    "max_distance = df1['competition_distance'].max()\n",
    "df1['competition_distance'] = df1['competition_distance'].apply(lambda x: (5*max_distance) if math.isnan(x) else x)\n",
    "\n",
    "# competition_open_since_month - if there is no competitor nearby or we don't know when it opened, we assume the date of the last sell\n",
    "df1['competition_open_since_month'] = df1.apply(lambda x: x['date'].month if math.isnan(x['competition_open_since_month']) \n",
    "                                                                          else x['competition_open_since_month'], axis=1)\n",
    "\n",
    "# competition_open_since_year \n",
    "df1['competition_open_since_year'] = df1.apply(lambda x: x['date'].year if math.isnan(x['competition_open_since_year']) \n",
    "                                                                        else x['competition_open_since_year'], axis=1)\n",
    "\n",
    "# promo2_since_week           \n",
    "df1['promo2_since_week'] = df1.apply(\n",
    "    lambda x: x['date'].week if math.isnan(x['promo2_since_week']) \n",
    "                             else x['promo2_since_week'], axis=1)\n",
    "\n",
    "#promo2_since_year \n",
    "df1['promo2_since_year'] = df1.apply(\n",
    "    lambda x: x['date'].year if math.isnan(x['promo2_since_year']) \n",
    "                             else x['promo2_since_year'], axis=1)\n",
    "\n",
    "# promo_interval              \n",
    "df1['promo_interval'].fillna(0, inplace=True)\n"
   ]
  },
  {
   "cell_type": "code",
   "execution_count": 31,
   "id": "fe812bcb",
   "metadata": {
    "ExecuteTime": {
     "end_time": "2023-06-04T13:54:13.015850Z",
     "start_time": "2023-06-04T13:54:12.680784Z"
    },
    "hidden": true
   },
   "outputs": [
    {
     "data": {
      "text/plain": [
       "store                           0\n",
       "day_of_week                     0\n",
       "date                            0\n",
       "sales                           0\n",
       "customers                       0\n",
       "open                            0\n",
       "promo                           0\n",
       "state_holiday                   0\n",
       "school_holiday                  0\n",
       "store_type                      0\n",
       "assortment                      0\n",
       "competition_distance            0\n",
       "competition_open_since_month    0\n",
       "competition_open_since_year     0\n",
       "promo2                          0\n",
       "promo2_since_week               0\n",
       "promo2_since_year               0\n",
       "promo_interval                  0\n",
       "dtype: int64"
      ]
     },
     "execution_count": 31,
     "metadata": {},
     "output_type": "execute_result"
    }
   ],
   "source": [
    "df1.isna().sum()"
   ]
  },
  {
   "cell_type": "markdown",
   "id": "d237b015",
   "metadata": {
    "heading_collapsed": true,
    "hidden": true
   },
   "source": [
    "## 1.4. Changing Data Types"
   ]
  },
  {
   "cell_type": "code",
   "execution_count": 32,
   "id": "ed8785a5",
   "metadata": {
    "ExecuteTime": {
     "end_time": "2023-06-04T13:54:13.095491Z",
     "start_time": "2023-06-04T13:54:13.080827Z"
    },
    "hidden": true
   },
   "outputs": [
    {
     "data": {
      "text/plain": [
       "store                                    int64\n",
       "day_of_week                              int64\n",
       "date                            datetime64[ns]\n",
       "sales                                    int64\n",
       "customers                                int64\n",
       "open                                     int64\n",
       "promo                                    int64\n",
       "state_holiday                           object\n",
       "school_holiday                           int64\n",
       "store_type                              object\n",
       "assortment                              object\n",
       "competition_distance                   float64\n",
       "competition_open_since_month           float64\n",
       "competition_open_since_year            float64\n",
       "promo2                                   int64\n",
       "promo2_since_week                      float64\n",
       "promo2_since_year                      float64\n",
       "promo_interval                          object\n",
       "dtype: object"
      ]
     },
     "execution_count": 32,
     "metadata": {},
     "output_type": "execute_result"
    }
   ],
   "source": [
    "df1.dtypes"
   ]
  },
  {
   "cell_type": "code",
   "execution_count": 33,
   "id": "68da2fb4",
   "metadata": {
    "ExecuteTime": {
     "end_time": "2023-06-04T13:54:13.253934Z",
     "start_time": "2023-06-04T13:54:13.161520Z"
    },
    "hidden": true
   },
   "outputs": [],
   "source": [
    "# Changing from float64 to int64\n",
    "df1['competition_open_since_month'] = df1['competition_open_since_month'].astype( np.int64 )\n",
    "df1['competition_open_since_year'] = df1['competition_open_since_year'].astype( np.int64 )\n",
    "    \n",
    "df1['promo2_since_week'] = df1['promo2_since_week'].astype( np.int64 ) \n",
    "df1['promo2_since_year'] = df1['promo2_since_year'].astype( np.int64 )\n",
    "\n"
   ]
  },
  {
   "cell_type": "code",
   "execution_count": 34,
   "id": "f7bc97c2",
   "metadata": {
    "ExecuteTime": {
     "end_time": "2023-06-04T13:54:13.349507Z",
     "start_time": "2023-06-04T13:54:13.318966Z"
    },
    "hidden": true
   },
   "outputs": [
    {
     "data": {
      "text/plain": [
       "store                                    int64\n",
       "day_of_week                              int64\n",
       "date                            datetime64[ns]\n",
       "sales                                    int64\n",
       "customers                                int64\n",
       "open                                     int64\n",
       "promo                                    int64\n",
       "state_holiday                           object\n",
       "school_holiday                           int64\n",
       "store_type                              object\n",
       "assortment                              object\n",
       "competition_distance                   float64\n",
       "competition_open_since_month             int64\n",
       "competition_open_since_year              int64\n",
       "promo2                                   int64\n",
       "promo2_since_week                        int64\n",
       "promo2_since_year                        int64\n",
       "promo_interval                          object\n",
       "dtype: object"
      ]
     },
     "execution_count": 34,
     "metadata": {},
     "output_type": "execute_result"
    }
   ],
   "source": [
    "df1.dtypes"
   ]
  },
  {
   "cell_type": "markdown",
   "id": "8f68e55f",
   "metadata": {
    "heading_collapsed": true,
    "hidden": true
   },
   "source": [
    "## 1.5. Data Descriptive"
   ]
  },
  {
   "cell_type": "code",
   "execution_count": 35,
   "id": "68950eba",
   "metadata": {
    "ExecuteTime": {
     "end_time": "2023-06-04T13:57:25.662529Z",
     "start_time": "2023-06-04T13:57:25.652527Z"
    },
    "hidden": true
   },
   "outputs": [],
   "source": [
    "num_attributes = df1.select_dtypes(include=['int64', 'float64'])\n",
    "cat_attributes = df1.select_dtypes(exclude=['int64', 'float64', 'datetime64[ns]'])"
   ]
  },
  {
   "cell_type": "markdown",
   "id": "ed2862b4",
   "metadata": {
    "heading_collapsed": true,
    "hidden": true
   },
   "source": [
    "### 1.5.1.  Numerical Data"
   ]
  },
  {
   "cell_type": "code",
   "execution_count": 37,
   "id": "e363a70f",
   "metadata": {
    "ExecuteTime": {
     "end_time": "2023-06-04T13:58:44.372251Z",
     "start_time": "2023-06-04T13:58:44.167453Z"
    },
    "hidden": true
   },
   "outputs": [
    {
     "data": {
      "text/html": [
       "<div>\n",
       "<style scoped>\n",
       "    .dataframe tbody tr th:only-of-type {\n",
       "        vertical-align: middle;\n",
       "    }\n",
       "\n",
       "    .dataframe tbody tr th {\n",
       "        vertical-align: top;\n",
       "    }\n",
       "\n",
       "    .dataframe thead th {\n",
       "        text-align: right;\n",
       "    }\n",
       "</style>\n",
       "<table border=\"1\" class=\"dataframe\">\n",
       "  <thead>\n",
       "    <tr style=\"text-align: right;\">\n",
       "      <th></th>\n",
       "      <th>count</th>\n",
       "      <th>mean</th>\n",
       "      <th>std</th>\n",
       "      <th>min</th>\n",
       "      <th>25%</th>\n",
       "      <th>50%</th>\n",
       "      <th>75%</th>\n",
       "      <th>max</th>\n",
       "    </tr>\n",
       "  </thead>\n",
       "  <tbody>\n",
       "    <tr>\n",
       "      <th>store</th>\n",
       "      <td>1017209.0</td>\n",
       "      <td>558.43</td>\n",
       "      <td>321.91</td>\n",
       "      <td>1.0</td>\n",
       "      <td>280.0</td>\n",
       "      <td>558.0</td>\n",
       "      <td>838.0</td>\n",
       "      <td>1115.0</td>\n",
       "    </tr>\n",
       "    <tr>\n",
       "      <th>day_of_week</th>\n",
       "      <td>1017209.0</td>\n",
       "      <td>4.00</td>\n",
       "      <td>2.00</td>\n",
       "      <td>1.0</td>\n",
       "      <td>2.0</td>\n",
       "      <td>4.0</td>\n",
       "      <td>6.0</td>\n",
       "      <td>7.0</td>\n",
       "    </tr>\n",
       "    <tr>\n",
       "      <th>sales</th>\n",
       "      <td>1017209.0</td>\n",
       "      <td>5773.82</td>\n",
       "      <td>3849.93</td>\n",
       "      <td>0.0</td>\n",
       "      <td>3727.0</td>\n",
       "      <td>5744.0</td>\n",
       "      <td>7856.0</td>\n",
       "      <td>41551.0</td>\n",
       "    </tr>\n",
       "    <tr>\n",
       "      <th>customers</th>\n",
       "      <td>1017209.0</td>\n",
       "      <td>633.15</td>\n",
       "      <td>464.41</td>\n",
       "      <td>0.0</td>\n",
       "      <td>405.0</td>\n",
       "      <td>609.0</td>\n",
       "      <td>837.0</td>\n",
       "      <td>7388.0</td>\n",
       "    </tr>\n",
       "    <tr>\n",
       "      <th>open</th>\n",
       "      <td>1017209.0</td>\n",
       "      <td>0.83</td>\n",
       "      <td>0.38</td>\n",
       "      <td>0.0</td>\n",
       "      <td>1.0</td>\n",
       "      <td>1.0</td>\n",
       "      <td>1.0</td>\n",
       "      <td>1.0</td>\n",
       "    </tr>\n",
       "    <tr>\n",
       "      <th>promo</th>\n",
       "      <td>1017209.0</td>\n",
       "      <td>0.38</td>\n",
       "      <td>0.49</td>\n",
       "      <td>0.0</td>\n",
       "      <td>0.0</td>\n",
       "      <td>0.0</td>\n",
       "      <td>1.0</td>\n",
       "      <td>1.0</td>\n",
       "    </tr>\n",
       "    <tr>\n",
       "      <th>school_holiday</th>\n",
       "      <td>1017209.0</td>\n",
       "      <td>0.18</td>\n",
       "      <td>0.38</td>\n",
       "      <td>0.0</td>\n",
       "      <td>0.0</td>\n",
       "      <td>0.0</td>\n",
       "      <td>0.0</td>\n",
       "      <td>1.0</td>\n",
       "    </tr>\n",
       "    <tr>\n",
       "      <th>competition_distance</th>\n",
       "      <td>1017209.0</td>\n",
       "      <td>6401.14</td>\n",
       "      <td>20529.90</td>\n",
       "      <td>20.0</td>\n",
       "      <td>710.0</td>\n",
       "      <td>2330.0</td>\n",
       "      <td>6910.0</td>\n",
       "      <td>379300.0</td>\n",
       "    </tr>\n",
       "    <tr>\n",
       "      <th>competition_open_since_month</th>\n",
       "      <td>1017209.0</td>\n",
       "      <td>6.79</td>\n",
       "      <td>3.31</td>\n",
       "      <td>1.0</td>\n",
       "      <td>4.0</td>\n",
       "      <td>7.0</td>\n",
       "      <td>10.0</td>\n",
       "      <td>12.0</td>\n",
       "    </tr>\n",
       "    <tr>\n",
       "      <th>competition_open_since_year</th>\n",
       "      <td>1017209.0</td>\n",
       "      <td>2010.32</td>\n",
       "      <td>5.52</td>\n",
       "      <td>1900.0</td>\n",
       "      <td>2008.0</td>\n",
       "      <td>2012.0</td>\n",
       "      <td>2014.0</td>\n",
       "      <td>2015.0</td>\n",
       "    </tr>\n",
       "    <tr>\n",
       "      <th>promo2</th>\n",
       "      <td>1017209.0</td>\n",
       "      <td>0.50</td>\n",
       "      <td>0.50</td>\n",
       "      <td>0.0</td>\n",
       "      <td>0.0</td>\n",
       "      <td>1.0</td>\n",
       "      <td>1.0</td>\n",
       "      <td>1.0</td>\n",
       "    </tr>\n",
       "    <tr>\n",
       "      <th>promo2_since_week</th>\n",
       "      <td>1017209.0</td>\n",
       "      <td>23.62</td>\n",
       "      <td>14.31</td>\n",
       "      <td>1.0</td>\n",
       "      <td>12.0</td>\n",
       "      <td>22.0</td>\n",
       "      <td>37.0</td>\n",
       "      <td>52.0</td>\n",
       "    </tr>\n",
       "    <tr>\n",
       "      <th>promo2_since_year</th>\n",
       "      <td>1017209.0</td>\n",
       "      <td>2012.79</td>\n",
       "      <td>1.66</td>\n",
       "      <td>2009.0</td>\n",
       "      <td>2012.0</td>\n",
       "      <td>2013.0</td>\n",
       "      <td>2014.0</td>\n",
       "      <td>2015.0</td>\n",
       "    </tr>\n",
       "  </tbody>\n",
       "</table>\n",
       "</div>"
      ],
      "text/plain": [
       "                                  count     mean       std     min     25%  \\\n",
       "store                         1017209.0   558.43    321.91     1.0   280.0   \n",
       "day_of_week                   1017209.0     4.00      2.00     1.0     2.0   \n",
       "sales                         1017209.0  5773.82   3849.93     0.0  3727.0   \n",
       "customers                     1017209.0   633.15    464.41     0.0   405.0   \n",
       "open                          1017209.0     0.83      0.38     0.0     1.0   \n",
       "promo                         1017209.0     0.38      0.49     0.0     0.0   \n",
       "school_holiday                1017209.0     0.18      0.38     0.0     0.0   \n",
       "competition_distance          1017209.0  6401.14  20529.90    20.0   710.0   \n",
       "competition_open_since_month  1017209.0     6.79      3.31     1.0     4.0   \n",
       "competition_open_since_year   1017209.0  2010.32      5.52  1900.0  2008.0   \n",
       "promo2                        1017209.0     0.50      0.50     0.0     0.0   \n",
       "promo2_since_week             1017209.0    23.62     14.31     1.0    12.0   \n",
       "promo2_since_year             1017209.0  2012.79      1.66  2009.0  2012.0   \n",
       "\n",
       "                                 50%     75%       max  \n",
       "store                          558.0   838.0    1115.0  \n",
       "day_of_week                      4.0     6.0       7.0  \n",
       "sales                         5744.0  7856.0   41551.0  \n",
       "customers                      609.0   837.0    7388.0  \n",
       "open                             1.0     1.0       1.0  \n",
       "promo                            0.0     1.0       1.0  \n",
       "school_holiday                   0.0     0.0       1.0  \n",
       "competition_distance          2330.0  6910.0  379300.0  \n",
       "competition_open_since_month     7.0    10.0      12.0  \n",
       "competition_open_since_year   2012.0  2014.0    2015.0  \n",
       "promo2                           1.0     1.0       1.0  \n",
       "promo2_since_week               22.0    37.0      52.0  \n",
       "promo2_since_year             2013.0  2014.0    2015.0  "
      ]
     },
     "execution_count": 37,
     "metadata": {},
     "output_type": "execute_result"
    }
   ],
   "source": [
    "np.round( num_attributes.describe(),2 ).T"
   ]
  },
  {
   "cell_type": "code",
   "execution_count": 38,
   "id": "72682233",
   "metadata": {
    "ExecuteTime": {
     "end_time": "2023-06-04T13:59:20.492908Z",
     "start_time": "2023-06-04T13:59:18.845396Z"
    },
    "hidden": true
   },
   "outputs": [
    {
     "data": {
      "text/html": [
       "<div>\n",
       "<style scoped>\n",
       "    .dataframe tbody tr th:only-of-type {\n",
       "        vertical-align: middle;\n",
       "    }\n",
       "\n",
       "    .dataframe tbody tr th {\n",
       "        vertical-align: top;\n",
       "    }\n",
       "\n",
       "    .dataframe thead th {\n",
       "        text-align: right;\n",
       "    }\n",
       "</style>\n",
       "<table border=\"1\" class=\"dataframe\">\n",
       "  <thead>\n",
       "    <tr style=\"text-align: right;\">\n",
       "      <th></th>\n",
       "      <th>attributes</th>\n",
       "      <th>min</th>\n",
       "      <th>max</th>\n",
       "      <th>range</th>\n",
       "      <th>mean</th>\n",
       "      <th>median</th>\n",
       "      <th>std</th>\n",
       "      <th>skew</th>\n",
       "      <th>kurtosis</th>\n",
       "    </tr>\n",
       "  </thead>\n",
       "  <tbody>\n",
       "    <tr>\n",
       "      <th>0</th>\n",
       "      <td>store</td>\n",
       "      <td>1.0</td>\n",
       "      <td>1115.0</td>\n",
       "      <td>1114.0</td>\n",
       "      <td>558.429727</td>\n",
       "      <td>558.0</td>\n",
       "      <td>321.908493</td>\n",
       "      <td>-0.000955</td>\n",
       "      <td>-1.200524</td>\n",
       "    </tr>\n",
       "    <tr>\n",
       "      <th>1</th>\n",
       "      <td>day_of_week</td>\n",
       "      <td>1.0</td>\n",
       "      <td>7.0</td>\n",
       "      <td>6.0</td>\n",
       "      <td>3.998341</td>\n",
       "      <td>4.0</td>\n",
       "      <td>1.997390</td>\n",
       "      <td>0.001593</td>\n",
       "      <td>-1.246873</td>\n",
       "    </tr>\n",
       "    <tr>\n",
       "      <th>2</th>\n",
       "      <td>sales</td>\n",
       "      <td>0.0</td>\n",
       "      <td>41551.0</td>\n",
       "      <td>41551.0</td>\n",
       "      <td>5773.818972</td>\n",
       "      <td>5744.0</td>\n",
       "      <td>3849.924283</td>\n",
       "      <td>0.641460</td>\n",
       "      <td>1.778375</td>\n",
       "    </tr>\n",
       "    <tr>\n",
       "      <th>3</th>\n",
       "      <td>customers</td>\n",
       "      <td>0.0</td>\n",
       "      <td>7388.0</td>\n",
       "      <td>7388.0</td>\n",
       "      <td>633.145946</td>\n",
       "      <td>609.0</td>\n",
       "      <td>464.411506</td>\n",
       "      <td>1.598650</td>\n",
       "      <td>7.091773</td>\n",
       "    </tr>\n",
       "    <tr>\n",
       "      <th>4</th>\n",
       "      <td>open</td>\n",
       "      <td>0.0</td>\n",
       "      <td>1.0</td>\n",
       "      <td>1.0</td>\n",
       "      <td>0.830107</td>\n",
       "      <td>1.0</td>\n",
       "      <td>0.375539</td>\n",
       "      <td>-1.758045</td>\n",
       "      <td>1.090723</td>\n",
       "    </tr>\n",
       "    <tr>\n",
       "      <th>5</th>\n",
       "      <td>promo</td>\n",
       "      <td>0.0</td>\n",
       "      <td>1.0</td>\n",
       "      <td>1.0</td>\n",
       "      <td>0.381515</td>\n",
       "      <td>0.0</td>\n",
       "      <td>0.485758</td>\n",
       "      <td>0.487838</td>\n",
       "      <td>-1.762018</td>\n",
       "    </tr>\n",
       "    <tr>\n",
       "      <th>6</th>\n",
       "      <td>school_holiday</td>\n",
       "      <td>0.0</td>\n",
       "      <td>1.0</td>\n",
       "      <td>1.0</td>\n",
       "      <td>0.178647</td>\n",
       "      <td>0.0</td>\n",
       "      <td>0.383056</td>\n",
       "      <td>1.677842</td>\n",
       "      <td>0.815154</td>\n",
       "    </tr>\n",
       "    <tr>\n",
       "      <th>7</th>\n",
       "      <td>competition_distance</td>\n",
       "      <td>20.0</td>\n",
       "      <td>379300.0</td>\n",
       "      <td>379280.0</td>\n",
       "      <td>6401.139107</td>\n",
       "      <td>2330.0</td>\n",
       "      <td>20529.887501</td>\n",
       "      <td>15.699494</td>\n",
       "      <td>280.001870</td>\n",
       "    </tr>\n",
       "    <tr>\n",
       "      <th>8</th>\n",
       "      <td>competition_open_since_month</td>\n",
       "      <td>1.0</td>\n",
       "      <td>12.0</td>\n",
       "      <td>11.0</td>\n",
       "      <td>6.786849</td>\n",
       "      <td>7.0</td>\n",
       "      <td>3.311085</td>\n",
       "      <td>-0.042076</td>\n",
       "      <td>-1.232607</td>\n",
       "    </tr>\n",
       "    <tr>\n",
       "      <th>9</th>\n",
       "      <td>competition_open_since_year</td>\n",
       "      <td>1900.0</td>\n",
       "      <td>2015.0</td>\n",
       "      <td>115.0</td>\n",
       "      <td>2010.324840</td>\n",
       "      <td>2012.0</td>\n",
       "      <td>5.515591</td>\n",
       "      <td>-7.235657</td>\n",
       "      <td>124.071304</td>\n",
       "    </tr>\n",
       "    <tr>\n",
       "      <th>10</th>\n",
       "      <td>promo2</td>\n",
       "      <td>0.0</td>\n",
       "      <td>1.0</td>\n",
       "      <td>1.0</td>\n",
       "      <td>0.500564</td>\n",
       "      <td>1.0</td>\n",
       "      <td>0.500000</td>\n",
       "      <td>-0.002255</td>\n",
       "      <td>-1.999999</td>\n",
       "    </tr>\n",
       "    <tr>\n",
       "      <th>11</th>\n",
       "      <td>promo2_since_week</td>\n",
       "      <td>1.0</td>\n",
       "      <td>52.0</td>\n",
       "      <td>51.0</td>\n",
       "      <td>23.619033</td>\n",
       "      <td>22.0</td>\n",
       "      <td>14.310057</td>\n",
       "      <td>0.178723</td>\n",
       "      <td>-1.184046</td>\n",
       "    </tr>\n",
       "    <tr>\n",
       "      <th>12</th>\n",
       "      <td>promo2_since_year</td>\n",
       "      <td>2009.0</td>\n",
       "      <td>2015.0</td>\n",
       "      <td>6.0</td>\n",
       "      <td>2012.793297</td>\n",
       "      <td>2013.0</td>\n",
       "      <td>1.662657</td>\n",
       "      <td>-0.784436</td>\n",
       "      <td>-0.210075</td>\n",
       "    </tr>\n",
       "  </tbody>\n",
       "</table>\n",
       "</div>"
      ],
      "text/plain": [
       "                      attributes     min       max     range         mean  \\\n",
       "0                          store     1.0    1115.0    1114.0   558.429727   \n",
       "1                    day_of_week     1.0       7.0       6.0     3.998341   \n",
       "2                          sales     0.0   41551.0   41551.0  5773.818972   \n",
       "3                      customers     0.0    7388.0    7388.0   633.145946   \n",
       "4                           open     0.0       1.0       1.0     0.830107   \n",
       "5                          promo     0.0       1.0       1.0     0.381515   \n",
       "6                 school_holiday     0.0       1.0       1.0     0.178647   \n",
       "7           competition_distance    20.0  379300.0  379280.0  6401.139107   \n",
       "8   competition_open_since_month     1.0      12.0      11.0     6.786849   \n",
       "9    competition_open_since_year  1900.0    2015.0     115.0  2010.324840   \n",
       "10                        promo2     0.0       1.0       1.0     0.500564   \n",
       "11             promo2_since_week     1.0      52.0      51.0    23.619033   \n",
       "12             promo2_since_year  2009.0    2015.0       6.0  2012.793297   \n",
       "\n",
       "    median           std       skew    kurtosis  \n",
       "0    558.0    321.908493  -0.000955   -1.200524  \n",
       "1      4.0      1.997390   0.001593   -1.246873  \n",
       "2   5744.0   3849.924283   0.641460    1.778375  \n",
       "3    609.0    464.411506   1.598650    7.091773  \n",
       "4      1.0      0.375539  -1.758045    1.090723  \n",
       "5      0.0      0.485758   0.487838   -1.762018  \n",
       "6      0.0      0.383056   1.677842    0.815154  \n",
       "7   2330.0  20529.887501  15.699494  280.001870  \n",
       "8      7.0      3.311085  -0.042076   -1.232607  \n",
       "9   2012.0      5.515591  -7.235657  124.071304  \n",
       "10     1.0      0.500000  -0.002255   -1.999999  \n",
       "11    22.0     14.310057   0.178723   -1.184046  \n",
       "12  2013.0      1.662657  -0.784436   -0.210075  "
      ]
     },
     "execution_count": 38,
     "metadata": {},
     "output_type": "execute_result"
    }
   ],
   "source": [
    "# Central Tendency - mean, median\n",
    "ct1 = pd.DataFrame( num_attributes.apply( np.mean ) ).T\n",
    "ct2 = pd.DataFrame( num_attributes.apply( np.median ) ).T\n",
    "\n",
    "# Dispersion - std, min, max, range, skew, kurtosis\n",
    "d1 = pd.DataFrame( num_attributes.apply( np.std ) ).T\n",
    "d2 = pd.DataFrame( num_attributes.apply( min ) ).T\n",
    "d3 = pd.DataFrame( num_attributes.apply( max ) ).T\n",
    "d4 = pd.DataFrame( num_attributes.apply( lambda x: x.max()-x.min() ) ).T\n",
    "d5 = pd.DataFrame( num_attributes.apply( lambda x: x.skew() ) ).T\n",
    "d6 = pd.DataFrame( num_attributes.apply( lambda x: x.kurtosis() ) ).T\n",
    "\n",
    "# concatenate\n",
    "m = pd.concat( [d2, d3, d4, ct1, ct2, d1, d5, d6] ).T.reset_index()\n",
    "m.columns = ['attributes', 'min', 'max', 'range', 'mean', 'median', 'std', 'skew', 'kurtosis']\n",
    "\n",
    "m"
   ]
  },
  {
   "cell_type": "markdown",
   "id": "64d0a0fa",
   "metadata": {
    "hidden": true
   },
   "source": [
    "### 1.5.2. Categorical Data "
   ]
  },
  {
   "cell_type": "code",
   "execution_count": 39,
   "id": "63a30ffa",
   "metadata": {
    "ExecuteTime": {
     "end_time": "2023-06-04T14:00:26.201229Z",
     "start_time": "2023-06-04T14:00:26.059746Z"
    },
    "hidden": true
   },
   "outputs": [
    {
     "data": {
      "text/plain": [
       "state_holiday     4\n",
       "store_type        4\n",
       "assortment        3\n",
       "promo_interval    4\n",
       "dtype: int64"
      ]
     },
     "execution_count": 39,
     "metadata": {},
     "output_type": "execute_result"
    }
   ],
   "source": [
    "cat_attributes.apply( lambda x: x.unique().shape[0] )"
   ]
  },
  {
   "cell_type": "code",
   "execution_count": 77,
   "id": "1db0e78b",
   "metadata": {
    "ExecuteTime": {
     "end_time": "2023-06-04T15:09:13.897536Z",
     "start_time": "2023-06-04T15:09:13.578464Z"
    },
    "hidden": true
   },
   "outputs": [
    {
     "data": {
      "image/png": "[encoded data removed]",
      "text/plain": [
       "<Figure size 720x1440 with 3 Axes>"
      ]
     },
     "metadata": {},
     "output_type": "display_data"
    }
   ],
   "source": [
    "# Filtering the days the stores will be open\n",
    "store_open = df1[(df1['state_holiday'] != '0') & (df1['sales'] > 0 ) ]\n",
    "\n",
    "plt.figure(figsize=(10,20))\n",
    "plt.subplot( 3, 1 ,1 )\n",
    "sns.boxplot( x='state_holiday', y='sales', data=store_open )\n",
    "plt.legend(labels=['a = Public Holiday', 'b = Easter Holiday', 'c = Christmas'], \n",
    "           loc='upper right')\n",
    "\n",
    "plt.subplot( 3, 1 ,2 )\n",
    "sns.boxplot( x='store_type', y='sales', data=store_open )\n",
    "\n",
    "plt.subplot( 3, 1 ,3 )\n",
    "sns.boxplot( x='assortment', y='sales', data=store_open )\n",
    "plt.legend(labels=['a = Basic', 'b = Extra', 'c = Extended'], \n",
    "           loc='upper right');"
   ]
  },
  {
   "cell_type": "markdown",
   "id": "503880f8",
   "metadata": {
    "hidden": true
   },
   "source": [
    "## 1.6. Saving the Dataset"
   ]
  },
  {
   "cell_type": "code",
   "execution_count": 78,
   "id": "ab8be9de",
   "metadata": {
    "ExecuteTime": {
     "end_time": "2023-06-04T15:14:30.775882Z",
     "start_time": "2023-06-04T15:14:22.692579Z"
    },
    "hidden": true
   },
   "outputs": [],
   "source": [
    "df1.to_csv('C:/Users/Guilherme/Documents/repos/rossman_forecast_sales/dataset/df1.csv', index=False)"
   ]
  },
  {
   "cell_type": "markdown",
   "id": "c9024260",
   "metadata": {},
   "source": [
    "# 2. FEATURE ENGINEERING\n",
    "\n",
    "Feature engineering refers to manipulation ( addition, deletion, combination, mutation ) of your data set to improve machine learning model training, leading to better performance and greater accuracy."
   ]
  },
  {
   "cell_type": "code",
   "execution_count": 81,
   "id": "e0cf9b56",
   "metadata": {
    "ExecuteTime": {
     "end_time": "2023-06-04T15:17:50.916815Z",
     "start_time": "2023-06-04T15:17:49.887220Z"
    }
   },
   "outputs": [
    {
     "data": {
      "text/html": [
       "<div>\n",
       "<style scoped>\n",
       "    .dataframe tbody tr th:only-of-type {\n",
       "        vertical-align: middle;\n",
       "    }\n",
       "\n",
       "    .dataframe tbody tr th {\n",
       "        vertical-align: top;\n",
       "    }\n",
       "\n",
       "    .dataframe thead th {\n",
       "        text-align: right;\n",
       "    }\n",
       "</style>\n",
       "<table border=\"1\" class=\"dataframe\">\n",
       "  <thead>\n",
       "    <tr style=\"text-align: right;\">\n",
       "      <th></th>\n",
       "      <th>store</th>\n",
       "      <th>day_of_week</th>\n",
       "      <th>date</th>\n",
       "      <th>sales</th>\n",
       "      <th>customers</th>\n",
       "      <th>open</th>\n",
       "      <th>promo</th>\n",
       "      <th>state_holiday</th>\n",
       "      <th>school_holiday</th>\n",
       "      <th>store_type</th>\n",
       "      <th>assortment</th>\n",
       "      <th>competition_distance</th>\n",
       "      <th>competition_open_since_month</th>\n",
       "      <th>competition_open_since_year</th>\n",
       "      <th>promo2</th>\n",
       "      <th>promo2_since_week</th>\n",
       "      <th>promo2_since_year</th>\n",
       "      <th>promo_interval</th>\n",
       "    </tr>\n",
       "  </thead>\n",
       "  <tbody>\n",
       "    <tr>\n",
       "      <th>0</th>\n",
       "      <td>1</td>\n",
       "      <td>5</td>\n",
       "      <td>2015-07-31</td>\n",
       "      <td>5263</td>\n",
       "      <td>555</td>\n",
       "      <td>1</td>\n",
       "      <td>1</td>\n",
       "      <td>0</td>\n",
       "      <td>1</td>\n",
       "      <td>c</td>\n",
       "      <td>a</td>\n",
       "      <td>1270.0</td>\n",
       "      <td>9</td>\n",
       "      <td>2008</td>\n",
       "      <td>0</td>\n",
       "      <td>31</td>\n",
       "      <td>2015</td>\n",
       "      <td>0</td>\n",
       "    </tr>\n",
       "    <tr>\n",
       "      <th>1</th>\n",
       "      <td>2</td>\n",
       "      <td>5</td>\n",
       "      <td>2015-07-31</td>\n",
       "      <td>6064</td>\n",
       "      <td>625</td>\n",
       "      <td>1</td>\n",
       "      <td>1</td>\n",
       "      <td>0</td>\n",
       "      <td>1</td>\n",
       "      <td>a</td>\n",
       "      <td>a</td>\n",
       "      <td>570.0</td>\n",
       "      <td>11</td>\n",
       "      <td>2007</td>\n",
       "      <td>1</td>\n",
       "      <td>13</td>\n",
       "      <td>2010</td>\n",
       "      <td>Jan,Apr,Jul,Oct</td>\n",
       "    </tr>\n",
       "    <tr>\n",
       "      <th>2</th>\n",
       "      <td>3</td>\n",
       "      <td>5</td>\n",
       "      <td>2015-07-31</td>\n",
       "      <td>8314</td>\n",
       "      <td>821</td>\n",
       "      <td>1</td>\n",
       "      <td>1</td>\n",
       "      <td>0</td>\n",
       "      <td>1</td>\n",
       "      <td>a</td>\n",
       "      <td>a</td>\n",
       "      <td>14130.0</td>\n",
       "      <td>12</td>\n",
       "      <td>2006</td>\n",
       "      <td>1</td>\n",
       "      <td>14</td>\n",
       "      <td>2011</td>\n",
       "      <td>Jan,Apr,Jul,Oct</td>\n",
       "    </tr>\n",
       "    <tr>\n",
       "      <th>3</th>\n",
       "      <td>4</td>\n",
       "      <td>5</td>\n",
       "      <td>2015-07-31</td>\n",
       "      <td>13995</td>\n",
       "      <td>1498</td>\n",
       "      <td>1</td>\n",
       "      <td>1</td>\n",
       "      <td>0</td>\n",
       "      <td>1</td>\n",
       "      <td>c</td>\n",
       "      <td>c</td>\n",
       "      <td>620.0</td>\n",
       "      <td>9</td>\n",
       "      <td>2009</td>\n",
       "      <td>0</td>\n",
       "      <td>31</td>\n",
       "      <td>2015</td>\n",
       "      <td>0</td>\n",
       "    </tr>\n",
       "    <tr>\n",
       "      <th>4</th>\n",
       "      <td>5</td>\n",
       "      <td>5</td>\n",
       "      <td>2015-07-31</td>\n",
       "      <td>4822</td>\n",
       "      <td>559</td>\n",
       "      <td>1</td>\n",
       "      <td>1</td>\n",
       "      <td>0</td>\n",
       "      <td>1</td>\n",
       "      <td>a</td>\n",
       "      <td>a</td>\n",
       "      <td>29910.0</td>\n",
       "      <td>4</td>\n",
       "      <td>2015</td>\n",
       "      <td>0</td>\n",
       "      <td>31</td>\n",
       "      <td>2015</td>\n",
       "      <td>0</td>\n",
       "    </tr>\n",
       "  </tbody>\n",
       "</table>\n",
       "</div>"
      ],
      "text/plain": [
       "   store  day_of_week        date  sales  customers  open  promo  \\\n",
       "0      1            5  2015-07-31   5263        555     1      1   \n",
       "1      2            5  2015-07-31   6064        625     1      1   \n",
       "2      3            5  2015-07-31   8314        821     1      1   \n",
       "3      4            5  2015-07-31  13995       1498     1      1   \n",
       "4      5            5  2015-07-31   4822        559     1      1   \n",
       "\n",
       "  state_holiday  school_holiday store_type assortment  competition_distance  \\\n",
       "0             0               1          c          a                1270.0   \n",
       "1             0               1          a          a                 570.0   \n",
       "2             0               1          a          a               14130.0   \n",
       "3             0               1          c          c                 620.0   \n",
       "4             0               1          a          a               29910.0   \n",
       "\n",
       "   competition_open_since_month  competition_open_since_year  promo2  \\\n",
       "0                             9                         2008       0   \n",
       "1                            11                         2007       1   \n",
       "2                            12                         2006       1   \n",
       "3                             9                         2009       0   \n",
       "4                             4                         2015       0   \n",
       "\n",
       "   promo2_since_week  promo2_since_year   promo_interval  \n",
       "0                 31               2015                0  \n",
       "1                 13               2010  Jan,Apr,Jul,Oct  \n",
       "2                 14               2011  Jan,Apr,Jul,Oct  \n",
       "3                 31               2015                0  \n",
       "4                 31               2015                0  "
      ]
     },
     "execution_count": 81,
     "metadata": {},
     "output_type": "execute_result"
    }
   ],
   "source": [
    "df2 = pd.read_csv('C:/Users/Guilherme/Documents/repos/rossman_forecast_sales/dataset/df1.csv', low_memory=False)\n",
    "df2.head()"
   ]
  },
  {
   "cell_type": "markdown",
   "id": "b37c5234",
   "metadata": {},
   "source": [
    "## 2.1. Day of Week"
   ]
  },
  {
   "cell_type": "code",
   "execution_count": null,
   "id": "f85f3fd8",
   "metadata": {},
   "outputs": [],
   "source": []
  },
  {
   "cell_type": "markdown",
   "id": "779f2c14",
   "metadata": {},
   "source": [
    "## 2.2. Year"
   ]
  },
  {
   "cell_type": "code",
   "execution_count": null,
   "id": "f0ef3e3d",
   "metadata": {},
   "outputs": [],
   "source": []
  },
  {
   "cell_type": "markdown",
   "id": "12b9a909",
   "metadata": {},
   "source": [
    "## 2.3. Month"
   ]
  },
  {
   "cell_type": "code",
   "execution_count": null,
   "id": "f360af48",
   "metadata": {},
   "outputs": [],
   "source": []
  },
  {
   "cell_type": "markdown",
   "id": "656f5abe",
   "metadata": {},
   "source": [
    "## 2.4. Year Week"
   ]
  },
  {
   "cell_type": "code",
   "execution_count": null,
   "id": "4ca76e40",
   "metadata": {},
   "outputs": [],
   "source": []
  },
  {
   "cell_type": "markdown",
   "id": "f4a2e246",
   "metadata": {},
   "source": [
    "## 2.5. Year Month"
   ]
  },
  {
   "cell_type": "code",
   "execution_count": null,
   "id": "0101b6f5",
   "metadata": {},
   "outputs": [],
   "source": []
  },
  {
   "cell_type": "markdown",
   "id": "99445e6f",
   "metadata": {},
   "source": [
    "## 2.6. Week of Year"
   ]
  },
  {
   "cell_type": "code",
   "execution_count": null,
   "id": "5a0f51eb",
   "metadata": {},
   "outputs": [],
   "source": []
  },
  {
   "cell_type": "markdown",
   "id": "397ec8e8",
   "metadata": {},
   "source": [
    "## 2.7. Competition Since"
   ]
  },
  {
   "cell_type": "code",
   "execution_count": null,
   "id": "3caa66bb",
   "metadata": {},
   "outputs": [],
   "source": []
  },
  {
   "cell_type": "markdown",
   "id": "df59850d",
   "metadata": {},
   "source": [
    "### 2.7.1. Competition Time Month "
   ]
  },
  {
   "cell_type": "code",
   "execution_count": null,
   "id": "20fc3f77",
   "metadata": {},
   "outputs": [],
   "source": []
  },
  {
   "cell_type": "markdown",
   "id": "7a299cb4",
   "metadata": {},
   "source": [
    "## 2.8. Promo Since"
   ]
  },
  {
   "cell_type": "code",
   "execution_count": null,
   "id": "d23d9c96",
   "metadata": {},
   "outputs": [],
   "source": []
  },
  {
   "cell_type": "markdown",
   "id": "643bda00",
   "metadata": {},
   "source": [
    "### 2.8.1. Promo Time Week "
   ]
  },
  {
   "cell_type": "code",
   "execution_count": null,
   "id": "b68b30d0",
   "metadata": {},
   "outputs": [],
   "source": []
  },
  {
   "cell_type": "markdown",
   "id": "0034778e",
   "metadata": {},
   "source": [
    "## 2.9. Assortment"
   ]
  },
  {
   "cell_type": "code",
   "execution_count": null,
   "id": "d7826d61",
   "metadata": {},
   "outputs": [],
   "source": []
  },
  {
   "cell_type": "markdown",
   "id": "edf718e2",
   "metadata": {},
   "source": [
    "## 2.10. State Holiday"
   ]
  },
  {
   "cell_type": "code",
   "execution_count": null,
   "id": "2b8a925b",
   "metadata": {},
   "outputs": [],
   "source": []
  },
  {
   "cell_type": "markdown",
   "id": "477c34ac",
   "metadata": {},
   "source": [
    "# 3. DATA FILTERING\n",
    "\n",
    "Data filtering, as the name implies, has the purpose of adding filter to better analyze your data. When data is filtered, only rows that meet the filter criteria will display and other rows will be hidden.\n",
    "\n",
    "I conclude that the data doesn't needed to be filtered."
   ]
  },
  {
   "cell_type": "markdown",
   "id": "1933bb1c",
   "metadata": {},
   "source": [
    "## 3.1. FIltering Lines "
   ]
  },
  {
   "cell_type": "code",
   "execution_count": null,
   "id": "e1a23d0e",
   "metadata": {},
   "outputs": [],
   "source": []
  },
  {
   "cell_type": "markdown",
   "id": "54dfd8f9",
   "metadata": {},
   "source": [
    "## 3.2. Columns Selection "
   ]
  },
  {
   "cell_type": "code",
   "execution_count": null,
   "id": "aab112c5",
   "metadata": {},
   "outputs": [],
   "source": []
  },
  {
   "cell_type": "markdown",
   "id": "8f359d1a",
   "metadata": {},
   "source": [
    "# 4. EDA ( Exploratory Data Analysis )\n",
    "\n",
    "EDA is applied to investigate the data and summarize the key insights. It will give you the basic understanding of your data, it's distribution, null values and much more. You can either explore data using graphs or through some python functions.\n",
    "\n",
    "From this study, I'll draw conclusion on the data."
   ]
  },
  {
   "cell_type": "code",
   "execution_count": null,
   "id": "e3fb7543",
   "metadata": {},
   "outputs": [],
   "source": []
  },
  {
   "cell_type": "code",
   "execution_count": null,
   "id": "3f77e192",
   "metadata": {},
   "outputs": [],
   "source": []
  },
  {
   "cell_type": "code",
   "execution_count": null,
   "id": "c9bf5ff3",
   "metadata": {},
   "outputs": [],
   "source": []
  },
  {
   "cell_type": "markdown",
   "id": "b8252086",
   "metadata": {},
   "source": [
    "# 5. HYPOTHESES"
   ]
  },
  {
   "cell_type": "code",
   "execution_count": null,
   "id": "7f9c982a",
   "metadata": {},
   "outputs": [],
   "source": []
  },
  {
   "cell_type": "code",
   "execution_count": null,
   "id": "e811c577",
   "metadata": {},
   "outputs": [],
   "source": []
  },
  {
   "cell_type": "markdown",
   "id": "0c075468",
   "metadata": {},
   "source": [
    "# 6. DATA PREPARATION | DATA PREPROCESSING \n",
    "\n",
    "[Data preparation allows for efficient data analysis, limits errors and inaccuracies that can occur during data processing, and makes all processed data more accessible to users](https://www.talend.com/resources/what-is-data-preparation/)\n",
    "### [The five D's of data preparation](https://www.sas.com/en_us/insights/articles/data-management/the-five-d-s-of-data-preparation.html)\n",
    "\n",
    "1. Discover\n",
    "2. Detain\n",
    "3. Distil\n",
    "4. Document\n",
    "5. Deiver"
   ]
  },
  {
   "cell_type": "code",
   "execution_count": null,
   "id": "9f95d57b",
   "metadata": {},
   "outputs": [],
   "source": []
  },
  {
   "cell_type": "code",
   "execution_count": null,
   "id": "6df2b5a2",
   "metadata": {},
   "outputs": [],
   "source": []
  },
  {
   "cell_type": "markdown",
   "id": "d2781f3a",
   "metadata": {},
   "source": [
    "# 7. FEATURE SELECTION\n",
    "\n",
    "[Feature Selection](https://www.simplilearn.com/tutorials/machine-learning-tutorial/feature-selection-in-machine-learning) is the method of reducing the input variable to your model by using only relevant data and getting rid of noise in data. \n",
    "\n",
    "It is the process of automatically choosing relevant features for your machine learning model, based on the type of problem you are trying to solve"
   ]
  },
  {
   "cell_type": "code",
   "execution_count": null,
   "id": "50f9f87a",
   "metadata": {},
   "outputs": [],
   "source": []
  },
  {
   "cell_type": "markdown",
   "id": "4ffad048",
   "metadata": {},
   "source": [
    "# 8. MACHINE LEARNING"
   ]
  },
  {
   "cell_type": "code",
   "execution_count": null,
   "id": "8af75e09",
   "metadata": {},
   "outputs": [],
   "source": []
  },
  {
   "cell_type": "markdown",
   "id": "6b8093e0",
   "metadata": {},
   "source": [
    "# 9. CROSS VALIDATION AND MODELS PERFORMANCE"
   ]
  },
  {
   "cell_type": "code",
   "execution_count": null,
   "id": "4eea61dd",
   "metadata": {},
   "outputs": [],
   "source": []
  },
  {
   "cell_type": "code",
   "execution_count": null,
   "id": "8be5adc5",
   "metadata": {},
   "outputs": [],
   "source": []
  },
  {
   "cell_type": "markdown",
   "id": "dfff64e4",
   "metadata": {},
   "source": [
    "# 10. xxxxx HYPERPARAMENTER TUNING"
   ]
  },
  {
   "cell_type": "code",
   "execution_count": null,
   "id": "c09ae56d",
   "metadata": {},
   "outputs": [],
   "source": []
  },
  {
   "cell_type": "code",
   "execution_count": null,
   "id": "64ba7a14",
   "metadata": {},
   "outputs": [],
   "source": []
  },
  {
   "cell_type": "markdown",
   "id": "df1701f8",
   "metadata": {},
   "source": [
    "# zzz. Future Work"
   ]
  },
  {
   "cell_type": "code",
   "execution_count": null,
   "id": "bd3ffe5b",
   "metadata": {},
   "outputs": [],
   "source": []
  }
 ],
 "metadata": {
  "kernelspec": {
   "display_name": "Python 3 (ipykernel)",
   "language": "python",
   "name": "python3"
  },
  "language_info": {
   "codemirror_mode": {
    "name": "ipython",
    "version": 3
   },
   "file_extension": ".py",
   "mimetype": "text/x-python",
   "name": "python",
   "nbconvert_exporter": "python",
   "pygments_lexer": "ipython3",
   "version": "3.9.12"
  },
  "latex_envs": {
   "LaTeX_envs_menu_present": true,
   "autoclose": false,
   "autocomplete": true,
   "bibliofile": "biblio.bib",
   "cite_by": "apalike",
   "current_citInitial": 1,
   "eqLabelWithNumbers": true,
   "eqNumInitial": 1,
   "hotkeys": {
    "equation": "Ctrl-E",
    "itemize": "Ctrl-I"
   },
   "labels_anchors": false,
   "latex_user_defs": false,
   "report_style_numbering": false,
   "user_envs_cfg": false
  },
  "varInspector": {
   "cols": {
    "lenName": 16,
    "lenType": 16,
    "lenVar": 40
   },
   "kernels_config": {
    "python": {
     "delete_cmd_postfix": "",
     "delete_cmd_prefix": "del ",
     "library": "var_list.py",
     "varRefreshCmd": "print(var_dic_list())"
    },
    "r": {
     "delete_cmd_postfix": ") ",
     "delete_cmd_prefix": "rm(",
     "library": "var_list.r",
     "varRefreshCmd": "cat(var_dic_list()) "
    }
   },
   "types_to_exclude": [
    "module",
    "function",
    "builtin_function_or_method",
    "instance",
    "_Feature"
   ],
   "window_display": false
  }
 },
 "nbformat": 4,
 "nbformat_minor": 5
}
