{
 "cells": [
  {
   "cell_type": "markdown",
   "id": "2e79967a",
   "metadata": {},
   "source": [
    "# 0. IMPORTS"
   ]
  },
  {
   "cell_type": "markdown",
   "id": "ba46a5c8",
   "metadata": {},
   "source": [
    "## 0.1. Python Libraries"
   ]
  },
  {
   "cell_type": "code",
   "execution_count": null,
   "id": "86c21259",
   "metadata": {},
   "outputs": [],
   "source": []
  },
  {
   "cell_type": "markdown",
   "id": "acf9de6b",
   "metadata": {},
   "source": [
    "## 0.2. Helper Functions"
   ]
  },
  {
   "cell_type": "code",
   "execution_count": null,
   "id": "903d09c3",
   "metadata": {},
   "outputs": [],
   "source": []
  },
  {
   "cell_type": "markdown",
   "id": "6926f2b6",
   "metadata": {},
   "source": [
    "## 0.3. Loading the [Dataset](https://www.kaggle.com/competitions/rossmann-store-sales/data?select=train.csv)"
   ]
  },
  {
   "cell_type": "code",
   "execution_count": null,
   "id": "cb1dbac7",
   "metadata": {},
   "outputs": [],
   "source": []
  },
  {
   "cell_type": "markdown",
   "id": "0a9c45b7",
   "metadata": {
    "heading_collapsed": true
   },
   "source": [
    "# 1. DATA UNDERSTANDING\n",
    "\n",
    "Initial contact with the dataset."
   ]
  },
  {
   "cell_type": "code",
   "execution_count": null,
   "id": "cf8ecf5b",
   "metadata": {
    "hidden": true
   },
   "outputs": [],
   "source": [
    "df1 = df_raw.copy()"
   ]
  },
  {
   "cell_type": "code",
   "execution_count": null,
   "id": "8edd1241",
   "metadata": {
    "hidden": true
   },
   "outputs": [],
   "source": []
  },
  {
   "cell_type": "markdown",
   "id": "921b6388",
   "metadata": {
    "hidden": true
   },
   "source": [
    "## 1.1. Data Preview"
   ]
  },
  {
   "cell_type": "code",
   "execution_count": null,
   "id": "19a1801d",
   "metadata": {
    "hidden": true
   },
   "outputs": [],
   "source": []
  },
  {
   "cell_type": "markdown",
   "id": "fdc0df71",
   "metadata": {
    "hidden": true
   },
   "source": [
    "## 1.2. Data Format and Type"
   ]
  },
  {
   "cell_type": "code",
   "execution_count": null,
   "id": "2d3c5290",
   "metadata": {
    "hidden": true
   },
   "outputs": [],
   "source": []
  },
  {
   "cell_type": "markdown",
   "id": "a4d5b589",
   "metadata": {
    "hidden": true
   },
   "source": [
    "## 1.3. Check NA"
   ]
  },
  {
   "cell_type": "code",
   "execution_count": null,
   "id": "91a5a819",
   "metadata": {
    "hidden": true
   },
   "outputs": [],
   "source": []
  },
  {
   "cell_type": "markdown",
   "id": "5228ae9e",
   "metadata": {
    "hidden": true
   },
   "source": [
    "## 1.3.1. Treatment NA"
   ]
  },
  {
   "cell_type": "code",
   "execution_count": null,
   "id": "122a6eba",
   "metadata": {
    "hidden": true
   },
   "outputs": [],
   "source": []
  },
  {
   "cell_type": "markdown",
   "id": "8f68e55f",
   "metadata": {
    "hidden": true
   },
   "source": [
    "## 1.4. Data Descriptive"
   ]
  },
  {
   "cell_type": "markdown",
   "id": "ed2862b4",
   "metadata": {
    "hidden": true
   },
   "source": [
    "### 1.4.1.  Numerical Data"
   ]
  },
  {
   "cell_type": "code",
   "execution_count": null,
   "id": "72682233",
   "metadata": {
    "hidden": true
   },
   "outputs": [],
   "source": []
  },
  {
   "cell_type": "markdown",
   "id": "64d0a0fa",
   "metadata": {
    "hidden": true
   },
   "source": [
    "### 1.4.2. Categorical Data "
   ]
  },
  {
   "cell_type": "code",
   "execution_count": null,
   "id": "63a30ffa",
   "metadata": {
    "hidden": true
   },
   "outputs": [],
   "source": []
  },
  {
   "cell_type": "markdown",
   "id": "c9024260",
   "metadata": {
    "heading_collapsed": true
   },
   "source": [
    "# 2. FEATURE ENGINEERING\n",
    "\n",
    "Feature engineering refers to manipulation ( addition, deletion, combination, mutation ) of your data set to improve machine learning model training, leading to better performance and greater accuracy."
   ]
  },
  {
   "cell_type": "code",
   "execution_count": null,
   "id": "e0cf9b56",
   "metadata": {
    "hidden": true
   },
   "outputs": [],
   "source": []
  },
  {
   "cell_type": "markdown",
   "id": "b37c5234",
   "metadata": {
    "hidden": true
   },
   "source": [
    "## 2.1. Day of Week"
   ]
  },
  {
   "cell_type": "code",
   "execution_count": null,
   "id": "f85f3fd8",
   "metadata": {
    "hidden": true
   },
   "outputs": [],
   "source": []
  },
  {
   "cell_type": "markdown",
   "id": "779f2c14",
   "metadata": {
    "hidden": true
   },
   "source": [
    "## 2.2. Year"
   ]
  },
  {
   "cell_type": "code",
   "execution_count": null,
   "id": "f0ef3e3d",
   "metadata": {
    "hidden": true
   },
   "outputs": [],
   "source": []
  },
  {
   "cell_type": "markdown",
   "id": "12b9a909",
   "metadata": {
    "hidden": true
   },
   "source": [
    "## 2.3. Month"
   ]
  },
  {
   "cell_type": "code",
   "execution_count": null,
   "id": "f360af48",
   "metadata": {
    "hidden": true
   },
   "outputs": [],
   "source": []
  },
  {
   "cell_type": "markdown",
   "id": "656f5abe",
   "metadata": {
    "hidden": true
   },
   "source": [
    "## 2.4. Year Week"
   ]
  },
  {
   "cell_type": "code",
   "execution_count": null,
   "id": "4ca76e40",
   "metadata": {
    "hidden": true
   },
   "outputs": [],
   "source": []
  },
  {
   "cell_type": "markdown",
   "id": "f4a2e246",
   "metadata": {
    "hidden": true
   },
   "source": [
    "## 2.5. Year Month"
   ]
  },
  {
   "cell_type": "code",
   "execution_count": null,
   "id": "0101b6f5",
   "metadata": {
    "hidden": true
   },
   "outputs": [],
   "source": []
  },
  {
   "cell_type": "markdown",
   "id": "99445e6f",
   "metadata": {
    "hidden": true
   },
   "source": [
    "## 2.6. Week of Year"
   ]
  },
  {
   "cell_type": "code",
   "execution_count": null,
   "id": "5a0f51eb",
   "metadata": {
    "hidden": true
   },
   "outputs": [],
   "source": []
  },
  {
   "cell_type": "markdown",
   "id": "397ec8e8",
   "metadata": {
    "hidden": true
   },
   "source": [
    "## 2.7. Competition Since"
   ]
  },
  {
   "cell_type": "code",
   "execution_count": null,
   "id": "3caa66bb",
   "metadata": {
    "hidden": true
   },
   "outputs": [],
   "source": []
  },
  {
   "cell_type": "markdown",
   "id": "df59850d",
   "metadata": {
    "hidden": true
   },
   "source": [
    "### 2.7.1. Competition Time Month "
   ]
  },
  {
   "cell_type": "code",
   "execution_count": null,
   "id": "20fc3f77",
   "metadata": {
    "hidden": true
   },
   "outputs": [],
   "source": []
  },
  {
   "cell_type": "markdown",
   "id": "7a299cb4",
   "metadata": {
    "hidden": true
   },
   "source": [
    "## 2.8. Promo Since"
   ]
  },
  {
   "cell_type": "code",
   "execution_count": null,
   "id": "d23d9c96",
   "metadata": {
    "hidden": true
   },
   "outputs": [],
   "source": []
  },
  {
   "cell_type": "markdown",
   "id": "643bda00",
   "metadata": {
    "hidden": true
   },
   "source": [
    "### 2.8.1. Promo Time Week "
   ]
  },
  {
   "cell_type": "code",
   "execution_count": null,
   "id": "b68b30d0",
   "metadata": {
    "hidden": true
   },
   "outputs": [],
   "source": []
  },
  {
   "cell_type": "markdown",
   "id": "0034778e",
   "metadata": {
    "hidden": true
   },
   "source": [
    "## 2.9. Assortment"
   ]
  },
  {
   "cell_type": "code",
   "execution_count": null,
   "id": "d7826d61",
   "metadata": {
    "hidden": true
   },
   "outputs": [],
   "source": []
  },
  {
   "cell_type": "markdown",
   "id": "edf718e2",
   "metadata": {
    "hidden": true
   },
   "source": [
    "## 2.10. State Holiday"
   ]
  },
  {
   "cell_type": "code",
   "execution_count": null,
   "id": "2b8a925b",
   "metadata": {
    "hidden": true
   },
   "outputs": [],
   "source": []
  },
  {
   "cell_type": "markdown",
   "id": "477c34ac",
   "metadata": {},
   "source": [
    "# 3. DATA FILTERING\n",
    "\n",
    "Data filtering, as the name implies, has the purpose of adding filter to better analyze your data. When data is filtered, only rows that meet the filter criteria will display and other rows will be hidden.\n",
    "\n",
    "I conclude that the data doesn't needed to be filtered."
   ]
  },
  {
   "cell_type": "markdown",
   "id": "1933bb1c",
   "metadata": {},
   "source": [
    "## 3.1. FIltering Lines "
   ]
  },
  {
   "cell_type": "code",
   "execution_count": null,
   "id": "e1a23d0e",
   "metadata": {},
   "outputs": [],
   "source": []
  },
  {
   "cell_type": "markdown",
   "id": "54dfd8f9",
   "metadata": {},
   "source": [
    "## 3.2. Columns Selection "
   ]
  },
  {
   "cell_type": "code",
   "execution_count": null,
   "id": "aab112c5",
   "metadata": {},
   "outputs": [],
   "source": []
  },
  {
   "cell_type": "markdown",
   "id": "8f359d1a",
   "metadata": {},
   "source": [
    "# 4. EDA ( Exploratory Data Analysis )\n",
    "\n",
    "EDA is applied to investigate the data and summarize the key insights. It will give you the basic understanding of your data, it's distribution, null values and much more. You can either explore data using graphs or through some python functions.\n",
    "\n",
    "From this study, I'll draw conclusion on the data."
   ]
  },
  {
   "cell_type": "code",
   "execution_count": null,
   "id": "e3fb7543",
   "metadata": {},
   "outputs": [],
   "source": []
  },
  {
   "cell_type": "code",
   "execution_count": null,
   "id": "3f77e192",
   "metadata": {},
   "outputs": [],
   "source": []
  },
  {
   "cell_type": "code",
   "execution_count": null,
   "id": "c9bf5ff3",
   "metadata": {},
   "outputs": [],
   "source": []
  },
  {
   "cell_type": "markdown",
   "id": "b8252086",
   "metadata": {},
   "source": [
    "# 5. HYPOTHESES"
   ]
  },
  {
   "cell_type": "code",
   "execution_count": null,
   "id": "7f9c982a",
   "metadata": {},
   "outputs": [],
   "source": []
  },
  {
   "cell_type": "code",
   "execution_count": null,
   "id": "e811c577",
   "metadata": {},
   "outputs": [],
   "source": []
  },
  {
   "cell_type": "markdown",
   "id": "0c075468",
   "metadata": {},
   "source": [
    "# 6. DATA PREPARATION | DATA PREPROCESSING \n",
    "\n",
    "[Data preparation allows for efficient data analysis, limits errors and inaccuracies that can occur during data processing, and makes all processed data more accessible to users](https://www.talend.com/resources/what-is-data-preparation/)\n",
    "### [The five D's of data preparation](https://www.sas.com/en_us/insights/articles/data-management/the-five-d-s-of-data-preparation.html)\n",
    "\n",
    "1. Discover\n",
    "2. Detain\n",
    "3. Distil\n",
    "4. Document\n",
    "5. Deiver"
   ]
  },
  {
   "cell_type": "code",
   "execution_count": null,
   "id": "9f95d57b",
   "metadata": {},
   "outputs": [],
   "source": []
  },
  {
   "cell_type": "code",
   "execution_count": null,
   "id": "6df2b5a2",
   "metadata": {},
   "outputs": [],
   "source": []
  },
  {
   "cell_type": "markdown",
   "id": "d2781f3a",
   "metadata": {},
   "source": [
    "# 7. FEATURE SELECTION\n",
    "\n",
    "[Feature Selection](https://www.simplilearn.com/tutorials/machine-learning-tutorial/feature-selection-in-machine-learning) is the method of reducing the input variable to your model by using only relevant data and getting rid of noise in data. \n",
    "\n",
    "It is the process of automatically choosing relevant features for your machine learning model, based on the type of problem you are trying to solve"
   ]
  },
  {
   "cell_type": "code",
   "execution_count": null,
   "id": "50f9f87a",
   "metadata": {},
   "outputs": [],
   "source": []
  },
  {
   "cell_type": "markdown",
   "id": "4ffad048",
   "metadata": {},
   "source": [
    "# 8. MACHINE LEARNING"
   ]
  },
  {
   "cell_type": "code",
   "execution_count": null,
   "id": "8af75e09",
   "metadata": {},
   "outputs": [],
   "source": []
  },
  {
   "cell_type": "markdown",
   "id": "6b8093e0",
   "metadata": {},
   "source": [
    "# 9. CROSS VALIDATION AND MODELS PERFORMANCE"
   ]
  },
  {
   "cell_type": "code",
   "execution_count": null,
   "id": "4eea61dd",
   "metadata": {},
   "outputs": [],
   "source": []
  },
  {
   "cell_type": "code",
   "execution_count": null,
   "id": "8be5adc5",
   "metadata": {},
   "outputs": [],
   "source": []
  },
  {
   "cell_type": "markdown",
   "id": "dfff64e4",
   "metadata": {},
   "source": [
    "# 10. xxxxx HYPERPARAMENTER TUNING"
   ]
  },
  {
   "cell_type": "code",
   "execution_count": null,
   "id": "c09ae56d",
   "metadata": {},
   "outputs": [],
   "source": []
  },
  {
   "cell_type": "code",
   "execution_count": null,
   "id": "64ba7a14",
   "metadata": {},
   "outputs": [],
   "source": []
  },
  {
   "cell_type": "markdown",
   "id": "df1701f8",
   "metadata": {},
   "source": [
    "# zzz. Future Work"
   ]
  },
  {
   "cell_type": "code",
   "execution_count": null,
   "id": "bd3ffe5b",
   "metadata": {},
   "outputs": [],
   "source": []
  }
 ],
 "metadata": {
  "kernelspec": {
   "display_name": "Python 3 (ipykernel)",
   "language": "python",
   "name": "python3"
  },
  "language_info": {
   "codemirror_mode": {
    "name": "ipython",
    "version": 3
   },
   "file_extension": ".py",
   "mimetype": "text/x-python",
   "name": "python",
   "nbconvert_exporter": "python",
   "pygments_lexer": "ipython3",
   "version": "3.9.12"
  },
  "latex_envs": {
   "LaTeX_envs_menu_present": true,
   "autoclose": false,
   "autocomplete": true,
   "bibliofile": "biblio.bib",
   "cite_by": "apalike",
   "current_citInitial": 1,
   "eqLabelWithNumbers": true,
   "eqNumInitial": 1,
   "hotkeys": {
    "equation": "Ctrl-E",
    "itemize": "Ctrl-I"
   },
   "labels_anchors": false,
   "latex_user_defs": false,
   "report_style_numbering": false,
   "user_envs_cfg": false
  },
  "varInspector": {
   "cols": {
    "lenName": 16,
    "lenType": 16,
    "lenVar": 40
   },
   "kernels_config": {
    "python": {
     "delete_cmd_postfix": "",
     "delete_cmd_prefix": "del ",
     "library": "var_list.py",
     "varRefreshCmd": "print(var_dic_list())"
    },
    "r": {
     "delete_cmd_postfix": ") ",
     "delete_cmd_prefix": "rm(",
     "library": "var_list.r",
     "varRefreshCmd": "cat(var_dic_list()) "
    }
   },
   "types_to_exclude": [
    "module",
    "function",
    "builtin_function_or_method",
    "instance",
    "_Feature"
   ],
   "window_display": false
  }
 },
 "nbformat": 4,
 "nbformat_minor": 5
}
